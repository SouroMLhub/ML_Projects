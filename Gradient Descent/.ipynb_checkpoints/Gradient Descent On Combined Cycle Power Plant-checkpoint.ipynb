{
 "cells": [
  {
   "cell_type": "code",
   "execution_count": 3,
   "metadata": {
    "colab": {},
    "colab_type": "code",
    "id": "iAvbIWr42xT7"
   },
   "outputs": [],
   "source": [
    "import numpy as np\n",
    "from sklearn.preprocessing import StandardScaler"
   ]
  },
  {
   "cell_type": "code",
   "execution_count": 0,
   "metadata": {
    "colab": {},
    "colab_type": "code",
    "id": "TNA8JM0A3E0T"
   },
   "outputs": [],
   "source": [
    "#train_uploaded = files.upload()"
   ]
  },
  {
   "cell_type": "code",
   "execution_count": 4,
   "metadata": {
    "colab": {},
    "colab_type": "code",
    "id": "GrDTcnpH3HVJ"
   },
   "outputs": [],
   "source": [
    "def gd(data, leraning_rate, num_iteration):\n",
    "    m_slope = []\n",
    "    for i in range(4):\n",
    "        m_slope.append(0)\n",
    "    m_slope.append(0)\n",
    "    for i in range(num_iteration):\n",
    "        m_slope = step_gradient(data, leraning_rate, m_slope)\n",
    "        print(i, \"Cost:\", cost(data, m_slope))\n",
    "    return m_slope"
   ]
  },
  {
   "cell_type": "code",
   "execution_count": 5,
   "metadata": {
    "colab": {},
    "colab_type": "code",
    "id": "eELQoLP73TI8"
   },
   "outputs": [],
   "source": [
    "def step_gradient(data, learning_rate, m_slope):\n",
    "    N = len(data)\n",
    "    X = data[:, :4]\n",
    "    Y = data[:, 4]\n",
    "    cal_optimal_m = [0,0,0,0,0]\n",
    "    \n",
    "    for i in range(N):\n",
    "        x = X[i,]\n",
    "        y = Y[i,] \n",
    "        total_slope_call = (x*m_slope[:-1]).sum() + m_slope[-1]\n",
    "       \n",
    "        for k in range(4):\n",
    "            cal_optimal_m[k] += (-2/N)*(y-total_slope_call)*x[k]\n",
    "        cal_optimal_m[4] += (-2/N)*(y-total_slope_call)\n",
    "                \n",
    "    new_m_slope = [0,0,0,0,0]\n",
    "    for i in range(5):\n",
    "        new_m_slope[i] = m_slope[i]- learning_rate* cal_optimal_m[i] \n",
    "    return new_m_slope"
   ]
  },
  {
   "cell_type": "code",
   "execution_count": 6,
   "metadata": {
    "colab": {},
    "colab_type": "code",
    "id": "9O_HudlJ3UPw"
   },
   "outputs": [],
   "source": [
    "def cost(data, m_slope):\n",
    "    N = len(data)\n",
    "    total_cost = 0\n",
    "    X = data[:, 0:4]\n",
    "    Y = data[:, 4]\n",
    "    for i in range(N):\n",
    "        x = X[i,]\n",
    "        y = Y[i,]\n",
    "        total_slope_cal = (x*m_slope[:-1]).sum() + m_slope[-1]\n",
    "        total_cost += ((y - total_slope_cal)**2)\n",
    "    return total_cost/N"
   ]
  },
  {
   "cell_type": "code",
   "execution_count": 7,
   "metadata": {
    "colab": {},
    "colab_type": "code",
    "id": "q6-eDCsS3V0Z"
   },
   "outputs": [],
   "source": [
    "def run():\n",
    "    data = np.loadtxt(r\"Data/X_Y_TRAIN.csv\", delimiter=\",\")\n",
    "    scaler = StandardScaler()\n",
    "    data[:, :-1] = scaler.fit_transform(data[:, :-1])\n",
    "    learning_rate = 0.1\n",
    "    num_iteration = 100\n",
    "    m = []\n",
    "    m = gd(data, learning_rate, num_iteration)\n",
    "    print(m)"
   ]
  },
  {
   "cell_type": "code",
   "execution_count": 85,
   "metadata": {
    "colab": {
     "base_uri": "https://localhost:8080/",
     "height": 1000
    },
    "colab_type": "code",
    "id": "Yz92hBal3ZLI",
    "outputId": "5ebef5e2-b336-4c1b-faa0-df86c3d46f66"
   },
   "outputs": [
    {
     "name": "stdout",
     "output_type": "stream",
     "text": [
      "98 Cost: 1.147201372266339e+34\n",
      "99 Cost: 2.396278508051076e+34\n",
      "[6.07873228957251e+16, 5.538760174346538e+16, -4.006119754124907e+16, -3.783999998768371e+16, 5165.975307015315]\n",
      "0 Cost: 132273.17028197827\n",
      "1 Cost: 84643.21738144118\n",
      "2 Cost: 54177.47422779253\n",
      "3 Cost: 34683.65693545284\n",
      "4 Cost: 22208.479529620825\n",
      "5 Cost: 14224.382169986951\n",
      "6 Cost: 9114.383468776652\n",
      "7 Cost: 5843.781284088717\n",
      "8 Cost: 3750.4051743364294\n",
      "9 Cost: 2410.472733905259\n",
      "10 Cost: 1552.7621937563943\n",
      "11 Cost: 1003.6891423474575\n",
      "12 Cost: 652.1571417929864\n",
      "13 Cost: 427.06242464503595\n",
      "14 Cost: 282.89690569872727\n",
      "15 Cost: 190.53405355324782\n",
      "16 Cost: 131.33178845157047\n",
      "17 Cost: 93.35828546206271\n",
      "18 Cost: 68.97644681535003\n",
      "19 Cost: 53.29793095396726\n",
      "20 Cost: 43.19370474360846\n",
      "21 Cost: 36.66077597552088\n",
      "22 Cost: 32.41688558517923\n",
      "23 Cost: 29.641097514004816\n",
      "24 Cost: 27.807765771435328\n",
      "25 Cost: 26.580265048887213\n",
      "26 Cost: 25.74297170433098\n",
      "27 Cost: 25.157726328859972\n",
      "28 Cost: 24.735965591782968\n",
      "29 Cost: 24.42088326947473\n",
      "30 Cost: 24.176010622787814\n",
      "31 Cost: 23.977905690256954\n",
      "32 Cost: 23.811472710613884\n",
      "33 Cost: 23.666965164458063\n",
      "34 Cost: 23.538066599773327\n",
      "35 Cost: 23.420661452103477\n",
      "36 Cost: 23.312047631015773\n",
      "37 Cost: 23.21043197232051\n",
      "38 Cost: 23.114606832432855\n",
      "39 Cost: 23.023742700095532\n",
      "40 Cost: 22.937255128393197\n",
      "41 Cost: 22.854719287256604\n",
      "42 Cost: 22.775815037704646\n",
      "43 Cost: 22.700291575975847\n",
      "44 Cost: 22.627944631473927\n",
      "45 Cost: 22.55860172275719\n",
      "46 Cost: 22.492112589901918\n",
      "47 Cost: 22.428342955482137\n",
      "48 Cost: 22.367170428810322\n",
      "49 Cost: 22.30848179257929\n",
      "50 Cost: 22.25217118316942\n",
      "51 Cost: 22.198138850389167\n",
      "52 Cost: 22.14629029438703\n",
      "53 Cost: 22.096535649353832\n",
      "54 Cost: 22.04878922981524\n",
      "55 Cost: 22.002969185010418\n",
      "56 Cost: 21.958997225978113\n",
      "57 Cost: 21.916798402289075\n",
      "58 Cost: 21.876300913335253\n",
      "59 Cost: 21.837435944228716\n",
      "60 Cost: 21.800137519716184\n",
      "61 Cost: 21.764342371686393\n",
      "62 Cost: 21.729989817274227\n",
      "63 Cost: 21.697021645499582\n",
      "64 Cost: 21.665382010998357\n",
      "65 Cost: 21.63501733381203\n",
      "66 Cost: 21.605876204483106\n",
      "67 Cost: 21.577909293887206\n",
      "68 Cost: 21.55106926736331\n",
      "69 Cost: 21.525310702795693\n",
      "70 Cost: 21.500590012360284\n",
      "71 Cost: 21.47686536769923\n",
      "72 Cost: 21.4540966283181\n",
      "73 Cost: 21.43224527302548\n",
      "74 Cost: 21.41127433425805\n",
      "75 Cost: 21.391148335145182\n",
      "76 Cost: 21.371833229182457\n",
      "77 Cost: 21.35329634239167\n",
      "78 Cost: 21.33550631785785\n",
      "79 Cost: 21.318433062533206\n",
      "80 Cost: 21.30204769621341\n",
      "81 Cost: 21.28632250259054\n",
      "82 Cost: 21.271230882295633\n",
      "83 Cost: 21.25674730784537\n",
      "84 Cost: 21.242847280416434\n",
      "85 Cost: 21.229507288367316\n",
      "86 Cost: 21.2167047674406\n",
      "87 Cost: 21.20441806257229\n",
      "88 Cost: 21.192626391244133\n",
      "89 Cost: 21.181309808316175\n",
      "90 Cost: 21.17044917227873\n",
      "91 Cost: 21.16002611286618\n",
      "92 Cost: 21.150022999976862\n",
      "93 Cost: 21.14042291384735\n",
      "94 Cost: 21.131209616428063\n",
      "95 Cost: 21.122367523914754\n",
      "96 Cost: 21.113881680385116\n",
      "97 Cost: 21.105737732501222\n",
      "98 Cost: 21.097921905227654\n",
      "99 Cost: 21.090420978532226\n",
      "[-13.883055046306245, -3.648929378779191, 0.5395473906772362, -2.0098218324370363, 454.4312931069847]\n"
     ]
    }
   ],
   "source": [
    "run()"
   ]
  },
  {
   "cell_type": "code",
   "execution_count": 0,
   "metadata": {
    "colab": {},
    "colab_type": "code",
    "id": "CM3M5_eN3bLh"
   },
   "outputs": [],
   "source": []
  }
 ],
 "metadata": {
  "colab": {
   "collapsed_sections": [],
   "name": "Untitled2.ipynb",
   "provenance": [],
   "version": "0.3.2"
  },
  "kernelspec": {
   "display_name": "Python 3",
   "language": "python",
   "name": "python3"
  },
  "language_info": {
   "codemirror_mode": {
    "name": "ipython",
    "version": 3
   },
   "file_extension": ".py",
   "mimetype": "text/x-python",
   "name": "python",
   "nbconvert_exporter": "python",
   "pygments_lexer": "ipython3",
   "version": "3.7.3"
  }
 },
 "nbformat": 4,
 "nbformat_minor": 1
}
